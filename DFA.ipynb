{
 "cells": [
  {
   "cell_type": "code",
   "execution_count": 415,
   "metadata": {
    "collapsed": false
   },
   "outputs": [],
   "source": [
    "def runDFA(M, word, Verbose=False):\n",
    "    \n",
    "    _Sigma, _Q, _delta, _q0, _F = M\n",
    "    \n",
    "    state = _q0\n",
    "    _word = list(word)\n",
    "    \n",
    "    if type(_q0) is not str:\n",
    "        if Verbose:\n",
    "            print \"Initial state must be a single String\"\n",
    "        return False\n",
    "    \n",
    "    if len(_q0) == 0:\n",
    "        if Verbose:\n",
    "            print \"Initial state not defined!\"\n",
    "        return False\n",
    "    \n",
    "    if len(_F) == 0:\n",
    "        if Verbose:\n",
    "            print \"Final state(s) not defined!\"\n",
    "        return False\n",
    "    \n",
    "    out_of_Q = [False for m in _delta if m[0][0] not in _Q or m[1] not in _Q]\n",
    "    unknown_states = len(out_of_Q)\n",
    "    if unknown_states > 0:\n",
    "        if Verbose:\n",
    "            print \"Error: {!s} state(s) declared in delta don't belong to Q\".format(unknown_states)\n",
    "        return False\n",
    "    \n",
    "    out_of_Sigma = [False for s in _word if s not in _Sigma]\n",
    "    strange_symbols = len(out_of_Sigma)\n",
    "    if strange_symbols > 0:\n",
    "        if Verbose:\n",
    "            print \"Word not accepted!\"\n",
    "            print \"{!s} letter(s) don't belong to the alphabet!\".format(strange_symbols)\n",
    "        return False\n",
    "    \n",
    "    if Verbose:\n",
    "        print \"Started running the Deterministic Finite Automaton!\"\n",
    "    \n",
    "    for i in _word:\n",
    "        if Verbose:\n",
    "            print \"{!s} going through \\\"{!s}\\\" from state \\\"{!s}\\\"...\".format(\"----->\", i, state)\n",
    "        \n",
    "        try:\n",
    "            state = [m[1] for m in _delta if m[0] == (state,i)][0]\n",
    "        except IndexError:\n",
    "            if Verbose:\n",
    "                print \"Word not accepted!\"\n",
    "                print \"No path with \\\"{!s}\\\" in state \\\"{!s}\\\"!\".format(i,state)\n",
    "            return False\n",
    "        \n",
    "        if Verbose:\n",
    "            print \"{!s:>6} new state is \\\"{!s}\\\"!\".format(\"-->\", state)\n",
    "        \n",
    "    if state in _F:\n",
    "        if Verbose:\n",
    "            print \"Accepted!\"\n",
    "            print \"Word \\\"{!s}\\\" is valid!\".format(word)\n",
    "        return True\n",
    "    else:\n",
    "        if Verbose:\n",
    "            print \"Not accepted!\"\n",
    "            print \"Word: \\\"{!s}\\\" is not valid!\".format(word)\n",
    "        return False"
   ]
  },
  {
   "cell_type": "code",
   "execution_count": 505,
   "metadata": {
    "collapsed": false
   },
   "outputs": [],
   "source": [
    "from IPython.display import Image \n",
    "import itertools\n",
    "import pydot\n",
    "\n",
    "def drawDFA(M, Save=False, Name=\"DFA_image\"):\n",
    "    graph_kwargs = {\n",
    "        'rankdir': 'LR',\n",
    "        'graph_type': 'digraph'\n",
    "    }\n",
    "    \n",
    "    graph = pydot.Dot(**graph_kwargs)\n",
    "    \n",
    "    _Sigma, _Q, _delta, _q0, _F = M\n",
    "    \n",
    "    graph.add_node(pydot.Node('start', shape='point', style='invis'))\n",
    "    \n",
    "    for k in _Q:\n",
    "        if k in _F:\n",
    "            graph.add_node(pydot.Node(k, shape=\"doublecircle\"))\n",
    "        else:\n",
    "            graph.add_node(pydot.Node(k, shape=\"circle\"))\n",
    "            \n",
    "    graph.add_edge(pydot.Edge('start',_q0))\n",
    "    \n",
    "    data_preparation = [[k,[[x[1],x[0][1]] for x in g]] \n",
    "                        for k, g in itertools.groupby(sorted(_delta, key=lambda l:l[0][0]), lambda l:l[0][0])]\n",
    "    \n",
    "    data = {}\n",
    "\n",
    "    for w in data_preparation:\n",
    "        data[w[0]] = [[k,', '.join(sorted([x[1] for x in g]))] \n",
    "             for k, g in itertools.groupby(sorted(w[1], key=lambda l:l[0]), lambda l:l[0])]\n",
    "    \n",
    "    for key in data.iteritems():\n",
    "        for v in key[1]:\n",
    "            current_state, path, next_state = key[0], v[1], v[0]\n",
    "            graph.add_edge(pydot.Edge(current_state, next_state, label=path))\n",
    "        \n",
    "    if Save:\n",
    "        graph.write_png(Name)\n",
    "        \n",
    "    return Image(graph.create_png())"
   ]
  },
  {
   "cell_type": "code",
   "execution_count": 506,
   "metadata": {
    "collapsed": false
   },
   "outputs": [],
   "source": [
    "Sigma = {'a','b','c'}\n",
    "Q = {'e0','e1','e2', 'e3'}\n",
    "delta = {(('e0','a'),'e1'),\\\n",
    "         (('e0','b'),'e0'),\\\n",
    "         (('e0','c'),'e0'),\\\n",
    "         (('e1','a'),'e1'),\\\n",
    "         (('e1','b'),'e2'),\\\n",
    "         (('e1','c'),'e0'),\\\n",
    "         (('e2','a'),'e1'),\\\n",
    "         (('e2','b'),'e0'),\\\n",
    "         (('e2','c'),'e3'),\\\n",
    "         (('e3','a'),'e1'),\\\n",
    "         (('e3','b'),'e0'),\\\n",
    "         (('e3','c'),'e0')}\n",
    "q0 = 'e0'\n",
    "F = {'e3'}\n",
    "    \n",
    "M = (Sigma, Q, delta, q0, F)\n"
   ]
  },
  {
   "cell_type": "code",
   "execution_count": 507,
   "metadata": {
    "collapsed": true
   },
   "outputs": [],
   "source": [
    "word = \"ababc\""
   ]
  },
  {
   "cell_type": "code",
   "execution_count": 508,
   "metadata": {
    "collapsed": false
   },
   "outputs": [
    {
     "data": {
      "text/plain": [
       "True"
      ]
     },
     "execution_count": 508,
     "metadata": {},
     "output_type": "execute_result"
    }
   ],
   "source": [
    "runDFA(M, word)"
   ]
  },
  {
   "cell_type": "code",
   "execution_count": 509,
   "metadata": {
    "collapsed": true
   },
   "outputs": [],
   "source": [
    "word = \"abaabc\""
   ]
  },
  {
   "cell_type": "code",
   "execution_count": 510,
   "metadata": {
    "collapsed": false
   },
   "outputs": [
    {
     "data": {
      "text/plain": [
       "True"
      ]
     },
     "execution_count": 510,
     "metadata": {},
     "output_type": "execute_result"
    }
   ],
   "source": [
    "runDFA(M, word)"
   ]
  },
  {
   "cell_type": "code",
   "execution_count": 511,
   "metadata": {
    "collapsed": true
   },
   "outputs": [],
   "source": [
    "word = \"aabca\""
   ]
  },
  {
   "cell_type": "code",
   "execution_count": 512,
   "metadata": {
    "collapsed": false
   },
   "outputs": [
    {
     "data": {
      "text/plain": [
       "False"
      ]
     },
     "execution_count": 512,
     "metadata": {},
     "output_type": "execute_result"
    }
   ],
   "source": [
    "runDFA(M, word)"
   ]
  },
  {
   "cell_type": "code",
   "execution_count": 513,
   "metadata": {
    "collapsed": false
   },
   "outputs": [
    {
     "name": "stdout",
     "output_type": "stream",
     "text": [
      "Started running the Deterministic Finite Automaton!\n",
      "-----> going through \"a\" from state \"e0\"...\n",
      "   --> new state is \"e1\"!\n",
      "-----> going through \"a\" from state \"e1\"...\n",
      "   --> new state is \"e1\"!\n",
      "-----> going through \"b\" from state \"e1\"...\n",
      "   --> new state is \"e2\"!\n",
      "-----> going through \"c\" from state \"e2\"...\n",
      "   --> new state is \"e3\"!\n",
      "-----> going through \"a\" from state \"e3\"...\n",
      "   --> new state is \"e1\"!\n",
      "Not accepted!\n",
      "Word: \"aabca\" is not valid!\n"
     ]
    },
    {
     "data": {
      "text/plain": [
       "False"
      ]
     },
     "execution_count": 513,
     "metadata": {},
     "output_type": "execute_result"
    }
   ],
   "source": [
    "runDFA(M, word, Verbose=True)"
   ]
  },
  {
   "cell_type": "code",
   "execution_count": 514,
   "metadata": {
    "collapsed": false,
    "scrolled": true
   },
   "outputs": [
    {
     "data": {
      "image/png": "[encoded data removed]",
      "text/plain": [
       "<IPython.core.display.Image object>"
      ]
     },
     "execution_count": 514,
     "metadata": {},
     "output_type": "execute_result"
    }
   ],
   "source": [
    "drawDFA(M)"
   ]
  },
  {
   "cell_type": "code",
   "execution_count": 515,
   "metadata": {
    "collapsed": true
   },
   "outputs": [],
   "source": [
    "Sigma = {'a','b'}\n",
    "Q = {'e0','e1','e2', 'e3'}\n",
    "delta = {(('e0','a'),'e1'),\\\n",
    "         (('e0','b'),'e3'),\\\n",
    "         (('e1','a'),'e0'),\\\n",
    "         (('e1','b'),'e2'),\\\n",
    "         (('e2','a'),'e3'),\\\n",
    "         (('e2','b'),'e1'),\\\n",
    "         (('e3','a'),'e2'),\\\n",
    "         (('e3','b'),'e0')}\n",
    "q0 = 'e0'\n",
    "F = {'e3'}\n",
    "    \n",
    "M = (Sigma, Q, delta, q0, F)"
   ]
  },
  {
   "cell_type": "code",
   "execution_count": 516,
   "metadata": {
    "collapsed": true
   },
   "outputs": [],
   "source": [
    "word = \"ababb\""
   ]
  },
  {
   "cell_type": "code",
   "execution_count": 517,
   "metadata": {
    "collapsed": false
   },
   "outputs": [
    {
     "name": "stdout",
     "output_type": "stream",
     "text": [
      "Started running the Deterministic Finite Automaton!\n",
      "-----> going through \"a\" from state \"e0\"...\n",
      "   --> new state is \"e1\"!\n",
      "-----> going through \"b\" from state \"e1\"...\n",
      "   --> new state is \"e2\"!\n",
      "-----> going through \"a\" from state \"e2\"...\n",
      "   --> new state is \"e3\"!\n",
      "-----> going through \"b\" from state \"e3\"...\n",
      "   --> new state is \"e0\"!\n",
      "-----> going through \"b\" from state \"e0\"...\n",
      "   --> new state is \"e3\"!\n",
      "Accepted!\n",
      "Word \"ababb\" is valid!\n"
     ]
    },
    {
     "data": {
      "text/plain": [
       "True"
      ]
     },
     "execution_count": 517,
     "metadata": {},
     "output_type": "execute_result"
    }
   ],
   "source": [
    "runDFA(M, word, Verbose=True)"
   ]
  },
  {
   "cell_type": "code",
   "execution_count": 518,
   "metadata": {
    "collapsed": true
   },
   "outputs": [],
   "source": [
    "word = \"aababb\""
   ]
  },
  {
   "cell_type": "code",
   "execution_count": 519,
   "metadata": {
    "collapsed": false
   },
   "outputs": [
    {
     "name": "stdout",
     "output_type": "stream",
     "text": [
      "Started running the Deterministic Finite Automaton!\n",
      "-----> going through \"a\" from state \"e0\"...\n",
      "   --> new state is \"e1\"!\n",
      "-----> going through \"a\" from state \"e1\"...\n",
      "   --> new state is \"e0\"!\n",
      "-----> going through \"b\" from state \"e0\"...\n",
      "   --> new state is \"e3\"!\n",
      "-----> going through \"a\" from state \"e3\"...\n",
      "   --> new state is \"e2\"!\n",
      "-----> going through \"b\" from state \"e2\"...\n",
      "   --> new state is \"e1\"!\n",
      "-----> going through \"b\" from state \"e1\"...\n",
      "   --> new state is \"e2\"!\n",
      "Not accepted!\n",
      "Word: \"aababb\" is not valid!\n"
     ]
    },
    {
     "data": {
      "text/plain": [
       "False"
      ]
     },
     "execution_count": 519,
     "metadata": {},
     "output_type": "execute_result"
    }
   ],
   "source": [
    "runDFA(M, word, Verbose=True)"
   ]
  },
  {
   "cell_type": "code",
   "execution_count": 520,
   "metadata": {
    "collapsed": true
   },
   "outputs": [],
   "source": [
    "word = \"aabmcabb\""
   ]
  },
  {
   "cell_type": "code",
   "execution_count": 521,
   "metadata": {
    "collapsed": false
   },
   "outputs": [
    {
     "name": "stdout",
     "output_type": "stream",
     "text": [
      "Word not accepted!\n",
      "2 letter(s) don't belong to the alphabet!\n"
     ]
    },
    {
     "data": {
      "text/plain": [
       "False"
      ]
     },
     "execution_count": 521,
     "metadata": {},
     "output_type": "execute_result"
    }
   ],
   "source": [
    "runDFA(M, word, Verbose=True)"
   ]
  },
  {
   "cell_type": "code",
   "execution_count": 522,
   "metadata": {
    "collapsed": false
   },
   "outputs": [
    {
     "data": {
      "image/png": "[encoded data removed]",
      "text/plain": [
       "<IPython.core.display.Image object>"
      ]
     },
     "execution_count": 522,
     "metadata": {},
     "output_type": "execute_result"
    }
   ],
   "source": [
    "drawDFA(M)"
   ]
  },
  {
   "cell_type": "code",
   "execution_count": 523,
   "metadata": {
    "collapsed": true
   },
   "outputs": [],
   "source": [
    "Sigma = {'a','b','c'}\n",
    "Q = {'e0','e1','e2'}\n",
    "delta = {(('e0','a'),'e1'),\\\n",
    "         (('e0','b'),'e0'),\\\n",
    "         (('e0','c'),'e0'),\\\n",
    "         (('e1','a'),'e2'),\\\n",
    "         (('e1','b'),'e1'),\\\n",
    "         (('e1','c'),'e1'),\\\n",
    "         (('e2','a'),'e2'),\\\n",
    "         (('e2','b'),'e2'),\\\n",
    "         (('e2','c'),'e2')}\n",
    "q0 = 'e0'\n",
    "F = {'e2'}\n",
    "    \n",
    "M = (Sigma, Q, delta, q0, F)"
   ]
  },
  {
   "cell_type": "code",
   "execution_count": 524,
   "metadata": {
    "collapsed": true
   },
   "outputs": [],
   "source": [
    "word = \"bcab\""
   ]
  },
  {
   "cell_type": "code",
   "execution_count": 525,
   "metadata": {
    "collapsed": false
   },
   "outputs": [
    {
     "name": "stdout",
     "output_type": "stream",
     "text": [
      "Started running the Deterministic Finite Automaton!\n",
      "-----> going through \"b\" from state \"e0\"...\n",
      "   --> new state is \"e0\"!\n",
      "-----> going through \"c\" from state \"e0\"...\n",
      "   --> new state is \"e0\"!\n",
      "-----> going through \"a\" from state \"e0\"...\n",
      "   --> new state is \"e1\"!\n",
      "-----> going through \"b\" from state \"e1\"...\n",
      "   --> new state is \"e1\"!\n",
      "Not accepted!\n",
      "Word: \"bcab\" is not valid!\n"
     ]
    },
    {
     "data": {
      "text/plain": [
       "False"
      ]
     },
     "execution_count": 525,
     "metadata": {},
     "output_type": "execute_result"
    }
   ],
   "source": [
    "runDFA(M, word, Verbose=True)"
   ]
  },
  {
   "cell_type": "code",
   "execution_count": 526,
   "metadata": {
    "collapsed": true
   },
   "outputs": [],
   "source": [
    "word = \"aaabcbc\""
   ]
  },
  {
   "cell_type": "code",
   "execution_count": 527,
   "metadata": {
    "collapsed": false
   },
   "outputs": [
    {
     "name": "stdout",
     "output_type": "stream",
     "text": [
      "Started running the Deterministic Finite Automaton!\n",
      "-----> going through \"a\" from state \"e0\"...\n",
      "   --> new state is \"e1\"!\n",
      "-----> going through \"a\" from state \"e1\"...\n",
      "   --> new state is \"e2\"!\n",
      "-----> going through \"a\" from state \"e2\"...\n",
      "   --> new state is \"e2\"!\n",
      "-----> going through \"b\" from state \"e2\"...\n",
      "   --> new state is \"e2\"!\n",
      "-----> going through \"c\" from state \"e2\"...\n",
      "   --> new state is \"e2\"!\n",
      "-----> going through \"b\" from state \"e2\"...\n",
      "   --> new state is \"e2\"!\n",
      "-----> going through \"c\" from state \"e2\"...\n",
      "   --> new state is \"e2\"!\n",
      "Accepted!\n",
      "Word \"aaabcbc\" is valid!\n"
     ]
    },
    {
     "data": {
      "text/plain": [
       "True"
      ]
     },
     "execution_count": 527,
     "metadata": {},
     "output_type": "execute_result"
    }
   ],
   "source": [
    "runDFA(M, word, Verbose=True)"
   ]
  },
  {
   "cell_type": "code",
   "execution_count": 528,
   "metadata": {
    "collapsed": false
   },
   "outputs": [
    {
     "data": {
      "image/png": "[encoded data removed]",
      "text/plain": [
       "<IPython.core.display.Image object>"
      ]
     },
     "execution_count": 528,
     "metadata": {},
     "output_type": "execute_result"
    }
   ],
   "source": [
    "drawDFA(M)"
   ]
  },
  {
   "cell_type": "code",
   "execution_count": 529,
   "metadata": {
    "collapsed": true
   },
   "outputs": [],
   "source": [
    "Sigma = {'a','b','c'}\n",
    "Q = {'e0','e1','e2','e3','e4'}\n",
    "delta = {(('e0','a'),'e1'),\\\n",
    "         (('e0','b'),'e0'),\\\n",
    "         (('e0','c'),'e3'),\\\n",
    "         (('e1','a'),'e1'),\\\n",
    "         (('e1','b'),'e2'),\\\n",
    "         (('e1','c'),'e3'),\\\n",
    "         (('e2','a'),'e1'),\\\n",
    "         (('e2','b'),'e0'),\\\n",
    "         (('e2','c'),'e3'),\\\n",
    "         (('e3','a'),'e4'),\\\n",
    "         (('e3','b'),'e0'),\\\n",
    "         (('e3','c'),'e3'),\\\n",
    "         (('e4','a'),'e1'),\\\n",
    "         (('e4','b'),'e2'),\\\n",
    "         (('e4','c'),'e3')}\n",
    "q0 = 'e0'\n",
    "F = {'e2','e4'}\n",
    "    \n",
    "M = (Sigma, Q, delta, q0, F)"
   ]
  },
  {
   "cell_type": "code",
   "execution_count": 530,
   "metadata": {
    "collapsed": true
   },
   "outputs": [],
   "source": [
    "word = \"abcccccb\""
   ]
  },
  {
   "cell_type": "code",
   "execution_count": 531,
   "metadata": {
    "collapsed": false
   },
   "outputs": [
    {
     "name": "stdout",
     "output_type": "stream",
     "text": [
      "Started running the Deterministic Finite Automaton!\n",
      "-----> going through \"a\" from state \"e0\"...\n",
      "   --> new state is \"e1\"!\n",
      "-----> going through \"b\" from state \"e1\"...\n",
      "   --> new state is \"e2\"!\n",
      "-----> going through \"c\" from state \"e2\"...\n",
      "   --> new state is \"e3\"!\n",
      "-----> going through \"c\" from state \"e3\"...\n",
      "   --> new state is \"e3\"!\n",
      "-----> going through \"c\" from state \"e3\"...\n",
      "   --> new state is \"e3\"!\n",
      "-----> going through \"c\" from state \"e3\"...\n",
      "   --> new state is \"e3\"!\n",
      "-----> going through \"c\" from state \"e3\"...\n",
      "   --> new state is \"e3\"!\n",
      "-----> going through \"b\" from state \"e3\"...\n",
      "   --> new state is \"e0\"!\n",
      "Not accepted!\n",
      "Word: \"abcccccb\" is not valid!\n"
     ]
    },
    {
     "data": {
      "text/plain": [
       "False"
      ]
     },
     "execution_count": 531,
     "metadata": {},
     "output_type": "execute_result"
    }
   ],
   "source": [
    "runDFA(M, word, Verbose=True)"
   ]
  },
  {
   "cell_type": "code",
   "execution_count": 532,
   "metadata": {
    "collapsed": true
   },
   "outputs": [],
   "source": [
    "word = \"acabca\""
   ]
  },
  {
   "cell_type": "code",
   "execution_count": 533,
   "metadata": {
    "collapsed": false
   },
   "outputs": [
    {
     "name": "stdout",
     "output_type": "stream",
     "text": [
      "Started running the Deterministic Finite Automaton!\n",
      "-----> going through \"a\" from state \"e0\"...\n",
      "   --> new state is \"e1\"!\n",
      "-----> going through \"c\" from state \"e1\"...\n",
      "   --> new state is \"e3\"!\n",
      "-----> going through \"a\" from state \"e3\"...\n",
      "   --> new state is \"e4\"!\n",
      "-----> going through \"b\" from state \"e4\"...\n",
      "   --> new state is \"e2\"!\n",
      "-----> going through \"c\" from state \"e2\"...\n",
      "   --> new state is \"e3\"!\n",
      "-----> going through \"a\" from state \"e3\"...\n",
      "   --> new state is \"e4\"!\n",
      "Accepted!\n",
      "Word \"acabca\" is valid!\n"
     ]
    },
    {
     "data": {
      "text/plain": [
       "True"
      ]
     },
     "execution_count": 533,
     "metadata": {},
     "output_type": "execute_result"
    }
   ],
   "source": [
    "runDFA(M, word, Verbose=True)"
   ]
  },
  {
   "cell_type": "code",
   "execution_count": 534,
   "metadata": {
    "collapsed": false
   },
   "outputs": [
    {
     "data": {
      "image/png": "[encoded data removed]",
      "text/plain": [
       "<IPython.core.display.Image object>"
      ]
     },
     "execution_count": 534,
     "metadata": {},
     "output_type": "execute_result"
    }
   ],
   "source": [
    "drawDFA(M)"
   ]
  },
  {
   "cell_type": "code",
   "execution_count": null,
   "metadata": {
    "collapsed": true
   },
   "outputs": [],
   "source": []
  }
 ],
 "metadata": {
  "kernelspec": {
   "display_name": "Python 2",
   "language": "python",
   "name": "python2"
  },
  "language_info": {
   "codemirror_mode": {
    "name": "ipython",
    "version": 2
   },
   "file_extension": ".py",
   "mimetype": "text/x-python",
   "name": "python",
   "nbconvert_exporter": "python",
   "pygments_lexer": "ipython2",
   "version": "2.7.13"
  }
 },
 "nbformat": 4,
 "nbformat_minor": 2
}
